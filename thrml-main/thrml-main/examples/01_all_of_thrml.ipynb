{
 "cells": [
  {
   "cell_type": "markdown",
   "id": "4bf7c6cf",
   "metadata": {},
   "source": [
    "# All of THRML"
   ]
  },
  {
   "cell_type": "markdown",
   "id": "8f065cdefd22f21e",
   "metadata": {
    "collapsed": false
   },
   "source": [
    "THRML is a simple library for simulating probabilistic computers on GPUs. \n",
    "\n",
    "\n",
    "Concretely, THRML provides tools for GPU accelerating block sampling algorithms on sparse, heterogeneous probabilistic graphical models (PGMs) like the ones that Extropic hardware runs. The primary function of THRML is to be a scaffold that makes it much easier to implement any desired block sampling algorithm than it would be to do so from scratch. As such, this notebook will walk you through the main set of tools that THRML exposes that you can use in your own explorations. "
   ]
  },
  {
   "cell_type": "markdown",
   "id": "5ee0766846938947",
   "metadata": {
    "collapsed": false
   },
   "source": [
    "We will demonstrate the capabilities of THRML by using it to implement the Gibbs sampling algorithm for a Gaussian PGM.\n\nGibbs sampling is obviously not a practical numerical method for Gaussian sampling in most cases, and should probably instead be handled using the [Cholesky decomposition](https://en.wikipedia.org/wiki/Cholesky_decomposition). We implement it here solely for the purposes of demonstrating THRML, which in reality will be used to attack more complex problems that can't be treated analytically.\n\n"
   ]
  },
  {
   "cell_type": "markdown",
   "id": "5096dab893ef7148",
   "metadata": {
    "collapsed": false
   },
   "source": [
    "Specifically, in the first part of this example we will consider a PGM that embodies the Gaussian distribution\n",
    "\n",
    "$$P(x) \\propto e^{-E_G(x)}$$\n",
    "\n",
    "Where the energy function $E_G(x)$ is,\n",
    "\n",
    "$$E_G(x) = \\frac{1}{2} \\left(x - \\mu \\right)^T A \\left( x - \\mu \\right) $$\n",
    "\n",
    "and $A = \\Sigma^{-1}$, where $\\Sigma$ is the covariance matrix of the distribution.\n",
    "\n",
    "We can expand this and write the energy function as a sum of terms,\n",
    "\n",
    "$$E_G(x) + C = \\frac{1}{2} \\sum_i A_{ii} \\: x_i^2 + \\sum_{j>i} A_{ij} \\: x_i \\: x_j + \\sum_i b_i \\: x_i$$\n",
    "\n",
    "\n",
    "Where $C$ is a constant independent of $x$, and $b = -\\mu^T A$ is a biasing vector.\n",
    "\n",
    "This form makes the graphical interpretation of the problem clear. Each of the variables $x_i$  can be represented by a node, and the nonzero matrix elements of $A$ define edges between the nodes. \n"
   ]
  },
  {
   "cell_type": "markdown",
   "id": "60ee0c3a9d0d3139",
   "metadata": {
    "collapsed": false
   },
   "source": [
    "We will use the Gibbs sampling algorithm to draw samples from our Gaussian distribution. To do this, we first identify the distribution of each $x_i$ conditioned on the rest of the graph,\n",
    "\n",
    "$$P(x_i | x_{nb(i)}) \\propto e^{-E_i (x_i ,x_{nb(i)})}$$\n",
    "\n",
    "$$E_i (x_i ,x_{nb(i)}) = \\frac{1}{2} A_{ii} \\: x_i^2 + x_i \\left( \\sum_{j \\in nb(i)} \\: A_{ij} \\: x_j + b_i \\right)$$\n",
    "\n",
    "where $nb(i)$ indicates the neighbours of node i, which in this case is all j such that $A_{ij} \\neq 0$. This form makes it clear that Gibbs sampling is local, i.e the state of each node is updated using only information about nodes that it is directly connected to.\n",
    "\n",
    "We can write this in a different form that makes it obvious that the conditional is Gaussian,\n",
    "\n",
    "$$E_i (x_i ,x_{nb(i)}) + D = \\frac{1}{2} (x_i - m_i) A_{ii} (x_i - m_i) $$\n",
    "\n",
    "$$ m_i = - \\left( \\sum_{j \\in nb(i)} \\frac{A_{ij}}{A_{ii}} x_j + \\frac{b_i}{A_{ii}} \\right) $$\n",
    "\n",
    "where $D$ is a constant independent of $x_i$.\n",
    "\n",
    "The Gibbs sampling algorithm works by iteratively updating each of the $x_i$ according to this conditional distribution. In chromatic Gibbs sampling, nodes that belong to the same color group are updated in parallel. This \"blocked\" version is what we will implement here."
   ]
  },
  {
   "cell_type": "markdown",
   "id": "dea608a1d20ea180",
   "metadata": {
    "collapsed": false
   },
   "source": [
    "With the math out of the way, we can proceed with the implementation of our sampling algorithm using THRML. First, let's get some imports out of the way:"
   ]
  },
  {
   "cell_type": "code",
   "execution_count": 27,
   "id": "dfd9f494512409ce",
   "metadata": {
    "ExecuteTime": {
     "end_time": "2025-08-28T16:29:16.386902328Z",
     "start_time": "2025-08-28T16:29:15.573490016Z"
    }
   },
   "outputs": [],
   "source": [
    "import random\n",
    "from collections import defaultdict\n",
    "from typing import Hashable, Mapping\n",
    "\n",
    "import equinox as eqx\n",
    "import jax\n",
    "import jax.numpy as jnp\n",
    "import matplotlib.pyplot as plt\n",
    "import networkx as nx\n",
    "import numpy as np\n",
    "from jaxtyping import Array, Key, PyTree\n",
    "from sklearn.decomposition import PCA\n",
    "from sklearn.preprocessing import StandardScaler"
   ]
  },
  {
   "cell_type": "code",
   "execution_count": 28,
   "id": "b6318cf59688b42",
   "metadata": {
    "ExecuteTime": {
     "end_time": "2025-08-28T16:29:16.428988580Z",
     "start_time": "2025-08-28T16:29:16.428562851Z"
    }
   },
   "outputs": [],
   "source": [
    "from thrml.block_management import Block\n",
    "from thrml.block_sampling import (\n",
    "    BlockGibbsSpec,\n",
    "    BlockSamplingProgram,\n",
    "    sample_states,\n",
    "    sample_with_observation,\n",
    "    SamplingSchedule,\n",
    ")\n",
    "from thrml.conditional_samplers import (\n",
    "    _SamplerState,\n",
    "    _State,\n",
    "    AbstractConditionalSampler,\n",
    ")\n",
    "from thrml.factor import AbstractFactor, FactorSamplingProgram\n",
    "from thrml.interaction import InteractionGroup\n",
    "from thrml.models.discrete_ebm import SpinEBMFactor, SpinGibbsConditional\n",
    "from thrml.observers import MomentAccumulatorObserver\n",
    "from thrml.pgm import AbstractNode"
   ]
  },
  {
   "cell_type": "markdown",
   "id": "6c3e91042f1a83",
   "metadata": {
    "collapsed": false
   },
   "source": [
    "Next, we will define our graph. In THRML, nodes that represent random variables with different data types (binary, categorical, continuous, etc.) are identified using distinct classes that inherit from `AbstractNode`. For our problem we only have one type of node, which we will define now,\n"
   ]
  },
  {
   "cell_type": "code",
   "execution_count": 29,
   "id": "dae80e1827e8f902",
   "metadata": {
    "ExecuteTime": {
     "end_time": "2025-08-28T16:29:16.429239088Z",
     "start_time": "2025-08-28T16:29:16.428923209Z"
    }
   },
   "outputs": [],
   "source": [
    "class ContinuousNode(AbstractNode):\n",
    "    pass"
   ]
  },
  {
   "cell_type": "markdown",
   "id": "987fda7dfe6b8b19",
   "metadata": {
    "collapsed": false
   },
   "source": [
    "We will now use the existing python graph library NetworkX to construct a grid graph of our nodes."
   ]
  },
  {
   "cell_type": "code",
   "execution_count": 30,
   "id": "d8402db6280bd6fd",
   "metadata": {
    "ExecuteTime": {
     "end_time": "2025-08-28T16:29:16.430081203Z",
     "start_time": "2025-08-28T16:29:16.429095796Z"
    }
   },
   "outputs": [],
   "source": [
    "def generate_grid_graph(\n",
    "    *side_lengths: int,\n",
    ") -> tuple[\n",
    "    tuple[list[ContinuousNode], list[ContinuousNode]], tuple[list[ContinuousNode], list[ContinuousNode]], nx.Graph\n",
    "]:\n",
    "    G = nx.grid_graph(dim=side_lengths, periodic=False)\n",
    "\n",
    "    coord_to_node = {coord: ContinuousNode() for coord in G.nodes}\n",
    "    nx.relabel_nodes(G, coord_to_node, copy=False)\n",
    "\n",
    "    for coord, node in coord_to_node.items():\n",
    "        G.nodes[node][\"coords\"] = coord\n",
    "\n",
    "    # an aperiodic grid is always 2-colorable\n",
    "    bicol = nx.bipartite.color(G)\n",
    "    color0 = [n for n, c in bicol.items() if c == 0]\n",
    "    color1 = [n for n, c in bicol.items() if c == 1]\n",
    "\n",
    "    u, v = map(list, zip(*G.edges()))\n",
    "\n",
    "    return (bicol, color0, color1), (u, v), G\n",
    "\n",
    "\n",
    "def plot_grid_graph(\n",
    "    G: nx.Graph,\n",
    "    bicol: Mapping[Hashable, int],\n",
    "    ax: plt.Axes,\n",
    "    *,\n",
    "    node_size: int = 300,\n",
    "    colors: tuple[str, str] = (\"black\", \"orange\"),\n",
    "    **draw_kwargs,\n",
    "):\n",
    "    pos = {n: G.nodes[n][\"coords\"][:2] for n in G.nodes}\n",
    "\n",
    "    node_colors = [colors[bicol[n]] for n in G.nodes]\n",
    "\n",
    "    nx.draw(\n",
    "        G,\n",
    "        pos=pos,\n",
    "        ax=ax,\n",
    "        node_color=node_colors,\n",
    "        node_size=node_size,\n",
    "        edgecolors=\"k\",\n",
    "        linewidths=0.8,\n",
    "        width=1.0,\n",
    "        with_labels=False,\n",
    "        **draw_kwargs,\n",
    "    )"
   ]
  },
  {
   "cell_type": "code",
   "execution_count": 31,
   "id": "82d08d060db3e98e",
   "metadata": {
    "ExecuteTime": {
     "end_time": "2025-08-28T16:29:16.474066145Z",
     "start_time": "2025-08-28T16:29:16.429184644Z"
    }
   },
   "outputs": [
    {
     "data": {
      "image/png": "[encoded data removed]",
      "text/plain": [
       "<Figure size 640x480 with 1 Axes>"
      ]
     },
     "metadata": {},
     "output_type": "display_data"
    }
   ],
   "source": [
    "colors, edges, g = generate_grid_graph(5, 5)\n",
    "\n",
    "all_nodes = colors[1] + colors[2]\n",
    "\n",
    "node_map = dict(zip(all_nodes, list(range(len(all_nodes)))))\n",
    "\n",
    "fig, axs = plt.subplots()\n",
    "\n",
    "plot_grid_graph(g, colors[0], axs)"
   ]
  },
  {
   "cell_type": "markdown",
   "id": "2af1113d8aa6574",
   "metadata": {
    "collapsed": false
   },
   "source": [
    "The blue and orange nodes are the two color groups for our grid graph. Any nodes that are the same color will be sampled simultaneously during block sampling.\n",
    "\n",
    "With the graph in hand, we can fully define the distribution we want to sample from by choosing a corresponding inverse covariance matrix and mean vector,"
   ]
  },
  {
   "cell_type": "code",
   "execution_count": 32,
   "id": "9bc7243e0373a00",
   "metadata": {
    "ExecuteTime": {
     "end_time": "2025-08-28T16:29:17.647863753Z",
     "start_time": "2025-08-28T16:29:16.475552708Z"
    }
   },
   "outputs": [],
   "source": [
    "# Fixed RNG seed for reproducibility\n",
    "seed = 4242\n",
    "key = jax.random.key(seed)\n",
    "\n",
    "# diagonal elements of the inverse covariance matrix\n",
    "key, subkey = jax.random.split(key, 2)\n",
    "cov_inv_diag = jax.random.uniform(subkey, (len(all_nodes),), minval=1, maxval=2)\n",
    "\n",
    "# add an off-diagonal element to the inverse covariance matrix for each edge in the graph\n",
    "key, subkey = jax.random.split(key, 2)\n",
    "# make sure the covaraince matrix is PSD\n",
    "cov_inv_off_diag = jax.random.uniform(subkey, (len(edges[0]),), minval=-0.25, maxval=0.25)\n",
    "\n",
    "\n",
    "def construct_inv_cov(diag: Array, all_edges: tuple[list[ContinuousNode], list[ContinuousNode]], off_diag: Array):\n",
    "    inv_cov = np.diag(diag)\n",
    "\n",
    "    for n1, n2, cov in zip(*all_edges, off_diag):\n",
    "        inv_cov[node_map[n1], node_map[n2]] = cov\n",
    "        inv_cov[node_map[n2], node_map[n1]] = cov\n",
    "\n",
    "    return inv_cov\n",
    "\n",
    "\n",
    "# construct a matrix representation of the inverse covariance matrix for convenience\n",
    "inv_cov_mat = construct_inv_cov(cov_inv_diag, edges, cov_inv_off_diag)\n",
    "\n",
    "inv_cov_mat_jax = jnp.array(inv_cov_mat)\n",
    "\n",
    "# mean vector\n",
    "key, subkey = jax.random.split(key, 2)\n",
    "mean_vec = jax.random.normal(subkey, (len(all_nodes),))\n",
    "\n",
    "# bias vector\n",
    "b_vec = -1 * jnp.einsum(\"ij, i -> j\", inv_cov_mat, mean_vec)"
   ]
  },
  {
   "cell_type": "markdown",
   "id": "6c2ffe8502458738",
   "metadata": {
    "collapsed": false
   },
   "source": [
    "Now we can construct a program to sample from the distribution we just defined. All block sampling routines follow more or less the same set of steps\n",
    "\n",
    "1. Divide your graph into two sets of blocks. The first set, the \"free\" blocks, will be updated during sampling. The second set, the \"clamped\" blocks, will have their nodes fixed to a constant value during sampling. This is often useful. For example, in the case of EBM sampling, this clamping allows for sampling from a distribution conditioned on the clamped nodes.\n",
    "2. Iteratively update the states of your free blocks. This means:\n",
    "    1. Initialize the state of each of the free nodes \n",
    "    2. Update the state of each of the free nodes according to some rule. The update rule for each node is some function that takes in a set of parameters and the states of some subset of the other nodes in the graph, and returns an updated state for the node.\n",
    "    3. Make some observation of the current state of the program. This might mean simply writing down the state of some subset of the nodes, or it might mean computing some more complex observable.\n",
    "    4. Repeat steps 2 and 3 until a statisfactory number of observations have been made\n",
    "\n",
    "THRML lets you run any version of this procedure that you want while writing minimal amounts of new code. We have to define 3 main things to accomplish this:\n",
    "\n",
    "\n",
    "1. A block specification: a division of our problem graph into free and clamped blocks\n",
    "2. A set of interactions: these allow us to specify what information is required to compute the conditional updates for each node in our graph.\n",
    "3. Conditional sampling rules: these specify how to update the state of each node in our graph given the interactions that are applicable to that node\n"
   ]
  },
  {
   "cell_type": "markdown",
   "id": "a63b95fb57e9cc5d",
   "metadata": {
    "collapsed": false
   },
   "source": [
    "First, we will define a block spec for our problem. In our case, we simply want to sample each color group in sequence, and we won't be clamping any of the nodes,"
   ]
  },
  {
   "cell_type": "code",
   "execution_count": 33,
   "id": "469ccb993534d861",
   "metadata": {
    "ExecuteTime": {
     "end_time": "2025-08-28T16:29:17.650211499Z",
     "start_time": "2025-08-28T16:29:17.648290975Z"
    }
   },
   "outputs": [],
   "source": [
    "# a Block is just a list of nodes that are all the same type\n",
    "# forcing the nodes in a Block to be of the same type is important for parallelization\n",
    "free_blocks = [Block(colors[1]), Block(colors[2])]\n",
    "\n",
    "# we won't be clamping anything here, but in principle this could be a list of Blocks just like above\n",
    "clamped_blocks = []\n",
    "\n",
    "# every node in the program has to be assigned a shape and datatype (or PyTree thereof).\n",
    "# this is so THRML can build an internal \"global\" representation of the state of the sampling program using a small number of jax arrays\n",
    "node_shape_dtypes = {ContinuousNode: jax.ShapeDtypeStruct((), jnp.float32)}\n",
    "\n",
    "# our block specification\n",
    "spec = BlockGibbsSpec(free_blocks, clamped_blocks, node_shape_dtypes)"
   ]
  },
  {
   "cell_type": "markdown",
   "id": "6fde116cd6ceaa15",
   "metadata": {
    "collapsed": false
   },
   "source": [
    "Now the interactions. Our PGM is of the undirected variety, which means that it can be described naturally using the language of [Factor Graphs](https://en.wikipedia.org/wiki/Factor_graph). Deep knowledge of factor graphs and their nomenclature isn't necessary to use THRML; in this context, a Factor is simply an interaction between a set of variables that has no natural direction. \n",
    "\n",
    "Factor graphs can be viewed as hypergraphs where each factor represents a hyperedge connecting multiple variables. Hyperedges in factor graphs can connect any number of variables, allowing for natural representation of higher-order interactions. For example, a three-way interaction term like $x_1 x_2 x_3$ in an energy function corresponds to a single hyperedge (factor) connecting three variable nodes. \n",
    "\n",
    "A nice thing about the Factor formalism is that in the context of Gibbs sampling, the conditional update rule for the $i^{th}$ node depends only on factors that involve $x_i$. This means that given a set of factors for a graph, if we want to update the state of a given node, we only need to consider a small subset of all of the factors that are local to that node. \n",
    "\n",
    "In our case, our energy function can we written as a sum of a bunch of terms, each of which is associated with a factor. There are three distinct types of term in this sum, each of which is associated with a different type of factor:\n",
    "\n",
    "1. $A_{ii} \\: x_i^2$\n",
    "2. $b_i \\: x_i$\n",
    "3. $A_{ij} \\: x_i \\: x_j$\n",
    "\n",
    "Each of these factors contributes to our conditional update rule in a different and consistent way. As such, in the context of algorithms like Gibbs sampling, Factors are defined by their ability to produce a set of directed interactions that effect the different nodes they involve in potentially different ways. In the case of our Gaussian sampling problem, our factors generate interactions that are either:\n",
    "\n",
    "1. Linear: contribute terms to the energy function like $c_i \\: x_i$, where $c_i$ does not depend on the \"head node\" $x_i$ but may depend on some \"tail nodes\" $x_{nb(i)}$\n",
    "2. Quadratic: contribute terms to the energy function like $d_i \\: x_i^2$, where in our case $d_i$ is a constant independent of the state of the sampling program\n",
    "\n",
    "THRML implements these abstractions directly in code. \n",
    "\n",
    "The most primitive object is the `InteractionGroup`, which specifies what parametric and state information should be supplied to a given node to compute it's conditional update. An `InteractionGroup` is composed of a set of interaction parameters, a set of \"head nodes\", and sets of \"tail nodes\". The head nodes are the nodes whose conditional update is effected by the interaction, and the tail nodes specify which neighbouring node states are required to compute the conditional update.\n",
    "\n",
    "\n",
    "THRML also defines Factors via the `AbstractFactor` interface. In full generality, THRML defines a factor as anything that can be reduced to a set of `InteractionGroup`s. THRML also defines more specialized factors (like ones that define an energy), however we won't be using those here.\n",
    "\n",
    "We can use these objects to set up our sampling program,"
   ]
  },
  {
   "cell_type": "code",
   "execution_count": 34,
   "id": "6829ad246eb0ca05",
   "metadata": {
    "ExecuteTime": {
     "end_time": "2025-08-28T16:29:17.687087542Z",
     "start_time": "2025-08-28T16:29:17.651912413Z"
    }
   },
   "outputs": [],
   "source": [
    "# these are just arrays that we can identify by type, will be useful later\n",
    "\n",
    "\n",
    "class LinearInteraction(eqx.Module):\n",
    "    \"\"\"An interaction of the form $c_i x_i$.\"\"\"\n",
    "\n",
    "    weights: Array\n",
    "\n",
    "\n",
    "class QuadraticInteraction(eqx.Module):\n",
    "    \"\"\"An interaction of the form $d_i x_i^2$.\"\"\"\n",
    "\n",
    "    inverse_weights: Array\n",
    "\n",
    "\n",
    "# now we can set up our three different types of factors\n",
    "\n",
    "\n",
    "class QuadraticFactor(AbstractFactor):\n",
    "    \"\"\"A factor of the form $w \\: x^2$\"\"\"\n",
    "\n",
    "    # 1/A_{ii}\n",
    "    inverse_weights: Array\n",
    "\n",
    "    def __init__(self, inverse_weights: Array, block: Block):\n",
    "        # in general, a factor is initialized via a list of blocks\n",
    "        # these blocks should all have the same number of nodes, and represent groupings of nodes involved in the factor\n",
    "        # for example, if a Factor involved 3 nodes, we would initialize it with 3 parallel blocks of equal length\n",
    "        super().__init__([block])\n",
    "\n",
    "        # this array has shape [n], where n is the number of nodes in block\n",
    "        self.inverse_weights = inverse_weights\n",
    "\n",
    "    def to_interaction_groups(self) -> list[InteractionGroup]:\n",
    "        # based on our conditional update rule, we can see that we need this to generate a Quadratic interaction with no tail nodes (i.e this interaction has no dependence on the neighbours of x_i)\n",
    "\n",
    "        # we create an InteractionGroup that implements this interaction\n",
    "\n",
    "        interaction = InteractionGroup(\n",
    "            interaction=QuadraticInteraction(self.inverse_weights),\n",
    "            head_nodes=self.node_groups[0],\n",
    "            # no tail nodes in this case\n",
    "            tail_nodes=[],\n",
    "        )\n",
    "\n",
    "        return [interaction]\n",
    "\n",
    "\n",
    "class LinearFactor(AbstractFactor):\n",
    "    \"\"\"A factor of the form $w \\: x$\"\"\"\n",
    "\n",
    "    # b_i\n",
    "    weights: Array\n",
    "\n",
    "    def __init__(self, weights: Array, block: Block):\n",
    "        super().__init__([block])\n",
    "        self.weights = weights\n",
    "\n",
    "    def to_interaction_groups(self) -> list[InteractionGroup]:\n",
    "        # follows the same pattern as previous, still no tail nodes\n",
    "\n",
    "        return [\n",
    "            InteractionGroup(interaction=LinearInteraction(self.weights), head_nodes=self.node_groups[0], tail_nodes=[])\n",
    "        ]\n",
    "\n",
    "\n",
    "class CouplingFactor(AbstractFactor):\n",
    "    # A_{ij}\n",
    "    weights: Array\n",
    "\n",
    "    def __init__(self, weights: Array, blocks: tuple[Block, Block]):\n",
    "        # in this case our factor involves two nodes, so it is initialized with two blocks\n",
    "        super().__init__(list(blocks))\n",
    "        self.weights = weights\n",
    "\n",
    "    def to_interaction_groups(self) -> list[InteractionGroup]:\n",
    "        # this factor produces interactions that impact both sets of nodes that it touches\n",
    "        # i.e if this factor involves a term like w x_1 x_2, it should produce one interaction with weight w that has x_1 as a head node and x_2 as a tail node,\n",
    "        # and another interaction with weight w that has x_2 as a head node and x_1 as a tail node\n",
    "\n",
    "        # if we were sure that x_1 and x_2 were always the same type of node, the two interactions could be part of the same InteractionGroup\n",
    "        # we won't worry about that here though\n",
    "        return [\n",
    "            InteractionGroup(LinearInteraction(self.weights), self.node_groups[0], [self.node_groups[1]]),\n",
    "            InteractionGroup(LinearInteraction(self.weights), self.node_groups[1], [self.node_groups[0]]),\n",
    "        ]"
   ]
  },
  {
   "cell_type": "markdown",
   "id": "211ad5584553e9d4",
   "metadata": {
    "collapsed": false
   },
   "source": [
    "Now the conditional update the rule. Here, we will define how the relevant interaction and state information should be used to produce an updated state in our iterative sampling algorithm."
   ]
  },
  {
   "cell_type": "code",
   "execution_count": 35,
   "id": "84587bfccaa38fd7",
   "metadata": {
    "ExecuteTime": {
     "end_time": "2025-08-28T16:29:17.702011145Z",
     "start_time": "2025-08-28T16:29:17.677623544Z"
    }
   },
   "outputs": [],
   "source": [
    "class GaussianSampler(AbstractConditionalSampler):\n",
    "    def sample(\n",
    "        self,\n",
    "        key: Key,\n",
    "        interactions: list[PyTree],\n",
    "        active_flags: list[Array],\n",
    "        states: list[list[_State]],\n",
    "        sampler_state: _SamplerState,\n",
    "        output_sd: PyTree[jax.ShapeDtypeStruct],\n",
    "    ) -> tuple[Array, _SamplerState]:\n",
    "        # this is where the rubber meets the road in THRML\n",
    "\n",
    "        # this function gets called during block sampling, and must take in information about interactions and neighbour states and produce a state update\n",
    "\n",
    "        # interactions, active_flags, and states are three parallel lists.\n",
    "\n",
    "        # each item in interactions is a pytree, for which each array will have shape [n, k, ...].\n",
    "        # this is generated by THRML from the set of InteractionGroups that are used to create a sampling program\n",
    "        # n is the number of nodes that we are updating in parallel during this call to sample\n",
    "        # k is the maximum number of times any node in the block that is being updated shows up as a head node for this interaction\n",
    "\n",
    "        # each item in active_flags is a boolean array with shape [n, k].\n",
    "        # this is padding that is generated internally by THRML based on the graphical structure of the model,\n",
    "        # and serves to allow for heterogeneous graph sampling to be vectorized on accelerators that rely on homogenous data structures\n",
    "\n",
    "        # each item in states is a list of Pytrees that represents the state of the tail nodes that are relevant to this interaction.\n",
    "        # for example, for an interaction with a single tail node that has a scalar dtype, states would be:\n",
    "        # [[n, k],]\n",
    "\n",
    "        bias = jnp.zeros(shape=output_sd.shape, dtype=output_sd.dtype)\n",
    "        var = jnp.zeros(shape=output_sd.shape, dtype=output_sd.dtype)\n",
    "\n",
    "        # loop through all of the available interactions and process them appropriately\n",
    "\n",
    "        # here we are simply implementing the math of our conditional update rule\n",
    "\n",
    "        for active, interaction, state in zip(active_flags, interactions, states):\n",
    "            if isinstance(interaction, LinearInteraction):\n",
    "                # if there are tail nodes, contribute w * x_1 * x_2 * ..., otherwise contribute w\n",
    "                state_prod = jnp.array(1.0)\n",
    "                if len(state) > 0:\n",
    "                    state_prod = jnp.prod(jnp.stack(state, -1), -1)\n",
    "                bias -= jnp.sum(interaction.weights * active * state_prod, axis=-1)\n",
    "\n",
    "            if isinstance(interaction, QuadraticInteraction):\n",
    "                # this just sets the variance of the output distribution\n",
    "                # there should never be any tail nodes\n",
    "\n",
    "                var = active * interaction.inverse_weights\n",
    "                var = var[..., 0]  # there should only ever be one\n",
    "\n",
    "        return (jnp.sqrt(var) * jax.random.normal(key, output_sd.shape)) + (bias * var), sampler_state\n",
    "\n",
    "    def init(self) -> _SamplerState:\n",
    "        return None"
   ]
  },
  {
   "cell_type": "markdown",
   "id": "9e4bf9792ff7b72b",
   "metadata": {
    "collapsed": false
   },
   "source": [
    "With all of the parts fully defined, we can now construct our sampling program"
   ]
  },
  {
   "cell_type": "code",
   "execution_count": 36,
   "id": "b90a7f2b58d39f2c",
   "metadata": {
    "ExecuteTime": {
     "end_time": "2025-08-28T16:29:17.928525605Z",
     "start_time": "2025-08-28T16:29:17.692896238Z"
    }
   },
   "outputs": [],
   "source": [
    "# our three types of factor\n",
    "lin_fac = LinearFactor(b_vec, Block(all_nodes))\n",
    "quad_fac = QuadraticFactor(1 / cov_inv_diag, Block(all_nodes))\n",
    "pair_quad_fac = CouplingFactor(cov_inv_off_diag, (Block(edges[0]), Block(edges[1])))\n",
    "\n",
    "# an instance of our conditional sampler\n",
    "sampler = GaussianSampler()\n",
    "\n",
    "# the sampling program itself. Combines the three main components we just built\n",
    "prog = FactorSamplingProgram(\n",
    "    gibbs_spec=spec,\n",
    "    # one sampler for every free block in gibbs_spec\n",
    "    samplers=[sampler, sampler],\n",
    "    factors=[lin_fac, quad_fac, pair_quad_fac],\n",
    "    other_interaction_groups=[],\n",
    ")"
   ]
  },
  {
   "cell_type": "markdown",
   "id": "8094b8ceb5bbe117",
   "metadata": {
    "collapsed": false
   },
   "source": [
    "`FactorSamplingProgram` is a thin wrapper on the more generic `BlockSamplingProgram`. All `FactorSamplingProgram` does is convert all of the factors passed in into `InteractionGroups` and then use them to create a `BlockSamplingProgram'. As such, prog is equivalent to prog_2 in the following:"
   ]
  },
  {
   "cell_type": "code",
   "execution_count": 37,
   "id": "329f5f388dd7ec3",
   "metadata": {
    "ExecuteTime": {
     "end_time": "2025-08-28T16:29:17.945152316Z",
     "start_time": "2025-08-28T16:29:17.929214231Z"
    }
   },
   "outputs": [],
   "source": [
    "groups = []\n",
    "for fac in [lin_fac, quad_fac, pair_quad_fac]:\n",
    "    groups += fac.to_interaction_groups()\n",
    "\n",
    "prog_2 = BlockSamplingProgram(gibbs_spec=spec, samplers=[sampler, sampler], interaction_groups=groups)"
   ]
  },
  {
   "cell_type": "markdown",
   "id": "acbab16fa204ede6",
   "metadata": {
    "collapsed": false
   },
   "source": [
    "Now we are finally ready to do some sampling! A sampling program in THRML simply repeatedly updates the state of each free block in the order they appear in the gibbs_spec. After every iteration of the sampling algorithm, we may observe the state and write down some information that is relevant to the problem we are trying to solve. For example, if we wanted to extract samples from some subset of the nodes of our PGM, after each iteration we could simply memorize some subset of the current state. This functionality is provided by observers in THRML.\n",
    "\n",
    "For the purposes of this example, it would be prudent to check that our sampling program is working correctly. To do this, we will compute estimators of some first and second moments and verify that they match up with expected values from the theory. We will use the built-in `MomentAccumulatorObserver` to accomplish this."
   ]
  },
  {
   "cell_type": "code",
   "execution_count": 38,
   "id": "8701c7ba2e643ea8",
   "metadata": {
    "ExecuteTime": {
     "end_time": "2025-08-28T16:29:17.981759372Z",
     "start_time": "2025-08-28T16:29:17.934117075Z"
    }
   },
   "outputs": [],
   "source": [
    "# we will estimate the covariances for each pair of nodes connected by an edge and compare against theory\n",
    "# to do this we will need to estimate first moments and second moments\n",
    "second_moments = [(e1, e2) for e1, e2 in zip(*edges)]\n",
    "first_moments = [[(x,) for x in y] for y in edges]\n",
    "\n",
    "# this will accumulate products of the node state specified by first_moments and second_moments\n",
    "observer = MomentAccumulatorObserver(first_moments + [second_moments])"
   ]
  },
  {
   "cell_type": "markdown",
   "id": "6af2c19400d9f7b7",
   "metadata": {
    "collapsed": false
   },
   "source": [
    "Now all that is left to do is specify a few more details about how the sampling should proceed. "
   ]
  },
  {
   "cell_type": "code",
   "execution_count": 39,
   "id": "e258c2655c697506",
   "metadata": {
    "ExecuteTime": {
     "end_time": "2025-08-28T16:29:18.423287969Z",
     "start_time": "2025-08-28T16:29:17.976885994Z"
    }
   },
   "outputs": [],
   "source": [
    "# how many parralel sampling chains will we run?\n",
    "n_batches = 1000\n",
    "\n",
    "\n",
    "schedule = SamplingSchedule(\n",
    "    # how many iterations to do before drawing the first sample\n",
    "    n_warmup=0,\n",
    "    # how many samples to draw in total\n",
    "    n_samples=10000,\n",
    "    # how many steps to take between samples\n",
    "    steps_per_sample=5,\n",
    ")\n",
    "\n",
    "# construct the initial state of the iterative sampling algorithm\n",
    "init_state = []\n",
    "for block in spec.free_blocks:\n",
    "    key, subkey = jax.random.split(key, 2)\n",
    "    init_state.append(\n",
    "        0.1\n",
    "        * jax.random.normal(\n",
    "            subkey,\n",
    "            (\n",
    "                n_batches,\n",
    "                len(block.nodes),\n",
    "            ),\n",
    "        )\n",
    "    )\n",
    "\n",
    "# RNG keys to use for each chain in the batch\n",
    "keys = jax.random.split(key, n_batches)\n",
    "\n",
    "# memory to hold our moment values\n",
    "init_mem = observer.init()"
   ]
  },
  {
   "cell_type": "markdown",
   "id": "f6c9593b255f17ba",
   "metadata": {
    "collapsed": false
   },
   "source": [
    "Now run the sampling:"
   ]
  },
  {
   "cell_type": "code",
   "execution_count": 40,
   "id": "8500ca130c435027",
   "metadata": {
    "ExecuteTime": {
     "end_time": "2025-08-28T16:29:20.962893712Z",
     "start_time": "2025-08-28T16:29:18.442376183Z"
    }
   },
   "outputs": [],
   "source": [
    "# we use vmap to run a bunch of parallel sampling chains\n",
    "moments, _ = jax.vmap(lambda k, s: sample_with_observation(k, prog, schedule, s, [], init_mem, observer))(\n",
    "    keys, init_state\n",
    ")\n",
    "\n",
    "# Take a mean over the batch axis and divide by the total number of samples\n",
    "moments = jax.tree.map(lambda x: jnp.mean(x, axis=0) / schedule.n_samples, moments)\n",
    "\n",
    "# compute the covariance values from the moment data\n",
    "covariances = moments[-1] - (moments[0] * moments[1])"
   ]
  },
  {
   "cell_type": "markdown",
   "id": "7f45604908336311",
   "metadata": {
    "collapsed": false
   },
   "source": [
    "We can compare our covariance estimates to the real covariance matrix to see if we implemented our sampling routine correctly"
   ]
  },
  {
   "cell_type": "code",
   "execution_count": 41,
   "id": "259e4b654e434c7b",
   "metadata": {
    "ExecuteTime": {
     "end_time": "2025-08-28T16:29:20.965740612Z",
     "start_time": "2025-08-28T16:29:20.963611764Z"
    }
   },
   "outputs": [
    {
     "name": "stdout",
     "output_type": "stream",
     "text": [
      "0.0045360937\n"
     ]
    }
   ],
   "source": [
    "cov = np.linalg.inv(inv_cov_mat)\n",
    "\n",
    "node_map = dict(zip(all_nodes, list(range(len(all_nodes)))))\n",
    "\n",
    "real_covs = []\n",
    "\n",
    "for edge in zip(*edges):\n",
    "    real_covs.append(cov[node_map[edge[0]], node_map[edge[1]]])\n",
    "\n",
    "real_covs = np.array(real_covs)\n",
    "\n",
    "error = np.max(np.abs(real_covs - covariances)) / np.abs(np.max(real_covs))\n",
    "\n",
    "print(error)\n",
    "assert error < 0.01"
   ]
  },
  {
   "cell_type": "markdown",
   "id": "b436bc81aec0ab3c",
   "metadata": {
    "collapsed": false
   },
   "source": [
    "We achieve a really small error because we computed a ton of samples. If you reduce either the batch size or the number of samples collected by each chain this number will go up."
   ]
  },
  {
   "cell_type": "markdown",
   "id": "881724ad88ca8f7d",
   "metadata": {
    "collapsed": false
   },
   "source": [
    "That is everything you need to know to implement any type of PGM block sampling routine you want in THRML. \n",
    "\n",
    "However, you don't always have to do everything completely from scratch! THRML exposes a limited set of higher-level functionality fine-tuned to sampling problems that Extropic really cares about. \n"
   ]
  },
  {
   "cell_type": "markdown",
   "id": "3ede7348975534bf",
   "metadata": {
    "collapsed": false
   },
   "source": [
    "Next, we will use some of these higher-level functions to implement a more complicated type of model that can't be sampled from using analytical techniques. In particular, we will implement sampling from a deep Gaussian-Bernoulli EBM. This  type of model has the energy function\n",
    "\n",
    "$$ E(x) = E_G(x) + E_{GB}(x, s) + E_B(s)$$\n",
    "\n",
    "where $x$ is a vector of continuous values and $s$ is a vector of *spins*, $s_i \\in \\{-1, 1\\}$.\n",
    "\n",
    "$E_G(x)$ is the Gaussian energy function defined in the previous section. $E_{GB}$ is an energy function that represents the interaction between the continuous and spin-valued variables,\n",
    "\n",
    "$$ E_{GB}(x, s) = \\sum_{ (i, j) \\in S_{GB}} W_{ij} \\: y_i \\: x_j $$\n",
    "\n",
    "where $S_{GB}$ is a set of edges connecting spin and continuous variables.\n",
    "\n",
    "$E_{B}$ is the spin energy function,\n",
    "\n",
    "$$ E_B(s) = \\sum_i b_i \\: s_i + \\sum_{j > i} J_{ij} s_i s_j$$ \n"
   ]
  },
  {
   "cell_type": "markdown",
   "id": "1739ba7eb64593f2",
   "metadata": {
    "collapsed": false
   },
   "source": [
    "Just for fun, lets use a more complicated graph topology for this problem. We will stick with a grid, but we will add skip-connections that allow for non-nearest-neighbour interactions. We can once again use NetworkX to make this graph,"
   ]
  },
  {
   "cell_type": "code",
   "execution_count": 42,
   "id": "706df0c0fa4dbe54",
   "metadata": {
    "ExecuteTime": {
     "end_time": "2025-08-28T16:29:21.014054288Z",
     "start_time": "2025-08-28T16:29:20.965966221Z"
    }
   },
   "outputs": [],
   "source": [
    "# first, define a new type of node\n",
    "\n",
    "\n",
    "class SpinNode(AbstractNode):\n",
    "    pass"
   ]
  },
  {
   "cell_type": "code",
   "execution_count": 43,
   "id": "8d6b1059f3b9d27b",
   "metadata": {
    "ExecuteTime": {
     "end_time": "2025-08-28T16:29:21.014706859Z",
     "start_time": "2025-08-28T16:29:20.990030231Z"
    }
   },
   "outputs": [],
   "source": [
    "# now, build a random grid out of spin and continuous nodes\n",
    "\n",
    "\n",
    "def make_random_typed_grid(\n",
    "    rows: int,\n",
    "    cols: int,\n",
    "    seed: int,\n",
    "    p_cont: float = 0.5,\n",
    "):\n",
    "    rng = random.Random(seed)\n",
    "\n",
    "    # every time we make a node, flip a coin to decide what type it should be\n",
    "    grid = [[ContinuousNode() if rng.random() < p_cont else SpinNode() for _ in range(cols)] for _ in range(rows)]\n",
    "\n",
    "    # Parity-based 2-coloring\n",
    "    bicol = {grid[r][c]: ((r + c) & 1) for r in range(rows) for c in range(cols)}\n",
    "\n",
    "    # Separate by color and type\n",
    "    colors_by_type = {\n",
    "        0: {SpinNode: [], ContinuousNode: []},\n",
    "        1: {SpinNode: [], ContinuousNode: []},\n",
    "    }\n",
    "    for r in range(rows):\n",
    "        for c in range(cols):\n",
    "            n = grid[r][c]\n",
    "            color = bicol[n]\n",
    "            colors_by_type[color][type(n)].append(n)\n",
    "\n",
    "    return grid, colors_by_type\n",
    "\n",
    "\n",
    "grid, coloring = make_random_typed_grid(30, 30, seed)"
   ]
  },
  {
   "cell_type": "code",
   "execution_count": 44,
   "id": "964bc9c4fcf1fb2b",
   "metadata": {
    "ExecuteTime": {
     "end_time": "2025-08-28T16:29:21.033744454Z",
     "start_time": "2025-08-28T16:29:21.002416755Z"
    }
   },
   "outputs": [],
   "source": [
    "# now generate the edges to impliment our desired skip-connected grid\n",
    "# we will use only odd-length edges (1, 3, 5, ...) so that our 2-coloring remains valid\n",
    "def build_skip_graph_from_grid(\n",
    "    grid: list[list[AbstractNode]],\n",
    "    skips: list[int],\n",
    "):\n",
    "    rows, cols = len(grid), len(grid[0])\n",
    "\n",
    "    # Build graph & annotate nodes with coords and type\n",
    "    G = nx.Graph()\n",
    "    for r in range(rows):\n",
    "        for c in range(cols):\n",
    "            n = grid[r][c]\n",
    "            G.add_node(n, coords=(r, c))\n",
    "\n",
    "    # Edges sorted by edge length\n",
    "    u_all = []\n",
    "    v_all = []\n",
    "    for k in skips:\n",
    "        # vertical: (r, c) -> (r+k, c)\n",
    "        for r in range(rows - k):\n",
    "            r2 = r + k\n",
    "            for c in range(cols):\n",
    "                n1 = grid[r][c]\n",
    "                n2 = grid[r2][c]\n",
    "                u_all.append(n1)\n",
    "                v_all.append(n2)\n",
    "                G.add_edge(n1, n2)\n",
    "\n",
    "        # horizontal: (r, c) -> (r, c+k)\n",
    "        for r in range(rows):\n",
    "            for c in range(cols - k):\n",
    "                c2 = c + k\n",
    "                n1 = grid[r][c]\n",
    "                n2 = grid[r][c2]\n",
    "                u_all.append(n1)\n",
    "                v_all.append(n2)\n",
    "                G.add_edge(n1, n2, skip=k)\n",
    "\n",
    "    return (u_all, v_all), G\n",
    "\n",
    "\n",
    "edge_lengths = [1, 3, 5]\n",
    "edges, graph = build_skip_graph_from_grid(grid, edge_lengths)"
   ]
  },
  {
   "cell_type": "markdown",
   "id": "700ba823270bf471",
   "metadata": {
    "collapsed": false
   },
   "source": [
    "Let's visualize this graph to understand what we just created. Since the graph is no longer planar, it will be cleanest to plot the local neighbourhood of particular nodes in our grid one at a time."
   ]
  },
  {
   "cell_type": "code",
   "execution_count": 45,
   "id": "d302f2a19cb6a65c",
   "metadata": {
    "ExecuteTime": {
     "end_time": "2025-08-28T16:29:21.212544555Z",
     "start_time": "2025-08-28T16:29:21.019630164Z"
    }
   },
   "outputs": [
    {
     "data": {
      "image/png": "[encoded data removed]",
      "text/plain": [
       "<Figure size 1500x500 with 3 Axes>"
      ]
     },
     "metadata": {},
     "output_type": "display_data"
    }
   ],
   "source": [
    "def plot_node_neighbourhood(\n",
    "    grid,\n",
    "    G: nx.Graph,\n",
    "    center: Hashable,\n",
    "    hops: int,\n",
    "    ax: plt.Axes,\n",
    ") -> None:\n",
    "    rows, cols = len(grid), len(grid[0])\n",
    "    r, c = G.nodes[center][\"coords\"]\n",
    "\n",
    "    # make a rectangular subgrid\n",
    "    r0, r1 = max(0, r - hops), min(rows - 1, r + hops)\n",
    "    c0, c1 = max(0, c - hops), min(cols - 1, c + hops)\n",
    "    rect_nodes = {grid[i][j] for i in range(r0, r1 + 1) for j in range(c0, c1 + 1)}\n",
    "\n",
    "    # collect the relevant edges by length\n",
    "    edges_by_k = defaultdict(list)\n",
    "    for v, ed in G[center].items():\n",
    "        k = int(ed.get(\"skip\", 1))\n",
    "        edges_by_k[k].append((center, v))\n",
    "\n",
    "    # draw edges as arcs\n",
    "    max_k = max(edges_by_k.keys(), default=1)\n",
    "    curve_scale = 0.8\n",
    "    edge_width = 1.0\n",
    "    alpha = 1.0\n",
    "\n",
    "    def rad_for_edge(u, v, k):\n",
    "        r1, c1 = G.nodes[u][\"coords\"]\n",
    "        r2, c2 = G.nodes[v][\"coords\"]\n",
    "        base = curve_scale * (k / max_k)\n",
    "        # choose bend direction based on quadrant:\n",
    "        if c1 == c2:\n",
    "            sign = +1.0 if r2 < r1 else -1.0  # up vs down\n",
    "        else:  # horizontal edge\n",
    "            sign = +1.0 if c2 > c1 else -1.0  # right vs left\n",
    "        return sign * base\n",
    "\n",
    "    # positions for plotting\n",
    "    pos = {n: (G.nodes[n][\"coords\"][1], G.nodes[n][\"coords\"][0]) for n in rect_nodes | {center}}\n",
    "\n",
    "    for i, k in enumerate(sorted(edges_by_k)):\n",
    "        for u, v in edges_by_k[k]:\n",
    "            nx.draw_networkx_edges(\n",
    "                G,\n",
    "                pos,\n",
    "                edgelist=[(u, v)],\n",
    "                ax=ax,\n",
    "                edge_color=\"gray\",\n",
    "                width=edge_width,\n",
    "                alpha=alpha,\n",
    "                arrows=True,\n",
    "                arrowstyle=\"-\",\n",
    "                connectionstyle=f\"arc3,rad={rad_for_edge(u, v, k)}\",\n",
    "            )\n",
    "\n",
    "    # draw nodes\n",
    "    cont_nodes = [n for n in rect_nodes if n.__class__ == ContinuousNode]\n",
    "    spin_nodes = [n for n in rect_nodes if n.__class__ == SpinNode]\n",
    "\n",
    "    node_size = 20.0\n",
    "\n",
    "    nx.draw_networkx_nodes(G, pos, nodelist=cont_nodes, node_color=\"black\", node_shape=\"s\", node_size=node_size, ax=ax)\n",
    "    nx.draw_networkx_nodes(G, pos, nodelist=spin_nodes, node_color=\"orange\", node_shape=\"o\", node_size=node_size, ax=ax)\n",
    "\n",
    "\n",
    "# pick a few nodes in the grid to inspect\n",
    "centers = [grid[0][7], grid[10][10], grid[-1][-1]]\n",
    "\n",
    "fig, axs = plt.subplots(nrows=1, ncols=len(centers), figsize=(len(centers) * 5, 5))\n",
    "\n",
    "\n",
    "for ax, center in zip(axs, centers):\n",
    "    plot_node_neighbourhood(grid, graph, center, max(edge_lengths) + 1, ax)"
   ]
  },
  {
   "cell_type": "markdown",
   "id": "62f1fb392c555b0",
   "metadata": {
    "collapsed": false
   },
   "source": [
    "This problem is clearly much more heterogeneous than what we were looking at before. Every node has a unique local neighbourhood, and is connected to a potentially different number of spin and continuous nodes. This makes working with this graph on an accelerator like a GPU tricky. As we will now see, THRML was specifically designed to handle this heterogeneity.\n",
    "\n",
    "With our graph in hand, let's set up our sampling program. We can re-use a lot of the work that we did in the simpler example. First, let's sort the nodes and edges by type. "
   ]
  },
  {
   "cell_type": "code",
   "execution_count": 20,
   "id": "79343d1ad7e971c4",
   "metadata": {
    "ExecuteTime": {
     "end_time": "2025-08-28T16:29:21.228754630Z",
     "start_time": "2025-08-28T16:29:21.215625717Z"
    }
   },
   "outputs": [],
   "source": [
    "# collect the different types of nodes\n",
    "spin_nodes = []\n",
    "cont_nodes = []\n",
    "for node in graph.nodes:\n",
    "    if isinstance(node, SpinNode):\n",
    "        spin_nodes.append(node)\n",
    "    else:\n",
    "        cont_nodes.append(node)\n",
    "\n",
    "\n",
    "# spin-spin interactions\n",
    "ss_edges = [[], []]\n",
    "\n",
    "# continuous-continuous interactions\n",
    "cc_edges = [[], []]\n",
    "\n",
    "# spin-continuous interactions\n",
    "sc_edges = [[], []]\n",
    "\n",
    "for edge in zip(*edges):\n",
    "    if isinstance(edge[0], SpinNode) and isinstance(edge[1], SpinNode):\n",
    "        ss_edges[0].append(edge[0])\n",
    "        ss_edges[1].append(edge[1])\n",
    "    elif isinstance(edge[0], ContinuousNode) and isinstance(edge[1], ContinuousNode):\n",
    "        cc_edges[0].append(edge[0])\n",
    "        cc_edges[1].append(edge[1])\n",
    "    elif isinstance(edge[0], SpinNode):\n",
    "        sc_edges[0].append(edge[0])\n",
    "        sc_edges[1].append(edge[1])\n",
    "    else:\n",
    "        sc_edges[1].append(edge[0])\n",
    "        sc_edges[0].append(edge[1])"
   ]
  },
  {
   "cell_type": "markdown",
   "id": "da08c4f94830376a",
   "metadata": {
    "collapsed": false
   },
   "source": [
    "Now we can set up some interactions. For some of the factors, we will re-use our code from the first part of this example "
   ]
  },
  {
   "cell_type": "code",
   "execution_count": 21,
   "id": "40cc0d7ed96795f9",
   "metadata": {
    "ExecuteTime": {
     "end_time": "2025-08-28T16:29:21.683064393Z",
     "start_time": "2025-08-28T16:29:21.217766402Z"
    }
   },
   "outputs": [],
   "source": [
    "# we will just randomize the weights\n",
    "\n",
    "key, subkey = jax.random.split(key, 2)\n",
    "cont_quad = QuadraticFactor(jax.random.uniform(subkey, (len(cont_nodes),), minval=2, maxval=3), Block(cont_nodes))\n",
    "\n",
    "key, subkey = jax.random.split(key, 2)\n",
    "cont_linear = LinearFactor(jax.random.normal(subkey, (len(cont_nodes),)), Block(cont_nodes))\n",
    "\n",
    "key, subkey = jax.random.split(key, 2)\n",
    "cont_coupling = CouplingFactor(\n",
    "    jax.random.uniform(subkey, (len(cc_edges[0]),), minval=-1 / 10, maxval=1 / 10),\n",
    "    (Block(cc_edges[0]), Block(cc_edges[1])),\n",
    ")\n",
    "\n",
    "key, subkey = jax.random.split(key, 2)\n",
    "spin_con_coupling = CouplingFactor(\n",
    "    jax.random.normal(subkey, (len(sc_edges[0]),)), (Block(sc_edges[0]), Block(sc_edges[1]))\n",
    ")"
   ]
  },
  {
   "cell_type": "markdown",
   "id": "a27cf9451faf6c44",
   "metadata": {
    "collapsed": false
   },
   "source": [
    "For the factors that involve only spin variables, we will use some built in functionality from THRML. THRML implements sampling functionality for arbitrary discrete-variable EBMs in `thrml.models.discrete_ebm` that we can apply to our problem. First, the spin factors,"
   ]
  },
  {
   "cell_type": "code",
   "execution_count": 22,
   "id": "8b829a81609def9e",
   "metadata": {
    "ExecuteTime": {
     "end_time": "2025-08-28T16:29:22.007023492Z",
     "start_time": "2025-08-28T16:29:21.683300609Z"
    }
   },
   "outputs": [],
   "source": [
    "key, subkey = jax.random.split(key, 2)\n",
    "spin_linear = SpinEBMFactor([Block(spin_nodes)], jax.random.normal(subkey, (len(spin_nodes),)))\n",
    "\n",
    "key, subkey = jax.random.split(key, 2)\n",
    "spin_coupling = SpinEBMFactor([Block(x) for x in ss_edges], jax.random.normal(subkey, (len(ss_edges[0]),)))"
   ]
  },
  {
   "cell_type": "markdown",
   "id": "7b426e194f944c72",
   "metadata": {
    "collapsed": false
   },
   "source": [
    "The Gaussian sampler we wrote for the first part will work our new problem as it is because it won't be seeing any new types of interactions. The Binary sampler built into THRML will have to be extended to handle our `LinearInteraction`. Luckily, it was designed with this kind of modification in mind."
   ]
  },
  {
   "cell_type": "code",
   "execution_count": 23,
   "id": "d9e776179348c681",
   "metadata": {
    "ExecuteTime": {
     "end_time": "2025-08-28T16:29:22.019981340Z",
     "start_time": "2025-08-28T16:29:22.008840315Z"
    }
   },
   "outputs": [],
   "source": [
    "class ExtendedSpinGibbsSampler(SpinGibbsConditional):\n",
    "    def compute_parameters(\n",
    "        self,\n",
    "        key: Key,\n",
    "        interactions: list[PyTree],\n",
    "        active_flags: list[Array],\n",
    "        states: list[list[_State]],\n",
    "        sampler_state: _SamplerState,\n",
    "        output_sd: PyTree[jax.ShapeDtypeStruct],\n",
    "    ) -> PyTree:\n",
    "        field = jnp.zeros(output_sd.shape, dtype=float)\n",
    "\n",
    "        unprocessed_interactions = []\n",
    "        unprocessed_active = []\n",
    "        unprocessed_states = []\n",
    "\n",
    "        for interaction, active, state in zip(interactions, active_flags, states):\n",
    "            # if its our new interaction, handle it\n",
    "            if isinstance(interaction, LinearInteraction):\n",
    "                state_prod = jnp.prod(jnp.stack(state, -1), -1)\n",
    "                field -= jnp.sum(interaction.weights * active * state_prod, axis=-1)\n",
    "\n",
    "            # if we haven't seen it, remember it\n",
    "            else:\n",
    "                unprocessed_interactions.append(interaction)\n",
    "                unprocessed_active.append(active)\n",
    "                unprocessed_states.append(state)\n",
    "\n",
    "        # make the parent class deal with THRML-native interactions\n",
    "        field -= super().compute_parameters(\n",
    "            key, unprocessed_interactions, unprocessed_active, unprocessed_states, sampler_state, output_sd\n",
    "        )[0]\n",
    "\n",
    "        return field, sampler_state"
   ]
  },
  {
   "cell_type": "markdown",
   "id": "9c9c99f1a668bcc7",
   "metadata": {
    "collapsed": false
   },
   "source": [
    "This is all the work we need to do to sample from our new graph using THRML! All that is left is to set up our Block spec and run some sampling."
   ]
  },
  {
   "cell_type": "code",
   "execution_count": 24,
   "id": "36470d03be19f2f2",
   "metadata": {
    "ExecuteTime": {
     "end_time": "2025-08-28T16:29:22.629298283Z",
     "start_time": "2025-08-28T16:29:22.011174500Z"
    }
   },
   "outputs": [],
   "source": [
    "# tell THRML the shape and datatype of our new node\n",
    "new_sd = {SpinNode: jax.ShapeDtypeStruct(shape=(), dtype=jnp.bool)}\n",
    "\n",
    "# Our new graph is still two-colorable, however within each color there are two different types of node\n",
    "# this means that we can't make a single block to represent each color because all of the nodes within a block have to be of the same type\n",
    "# however, we might still want to ensure that the two blocks that represent each color group are sampled at the same \"algorithmic\" time\n",
    "# i.e even though we can't sample these blocks directly in parallel because they use different update rules, we want to make sure that they\n",
    "# receive the same state information\n",
    "# we can make this happen in THRML by passing in a list of tuples of blocks to BlockGibbsSpec instead of a list of Blocks\n",
    "# the blocks in each tuple will be sampled at the same algorithmic time\n",
    "blocks = [\n",
    "    (Block(coloring[0][SpinNode]), Block(coloring[0][ContinuousNode])),\n",
    "    (Block(coloring[1][SpinNode]), Block(coloring[1][ContinuousNode])),\n",
    "]\n",
    "\n",
    "block_spec = BlockGibbsSpec(blocks, [], node_shape_dtypes | new_sd)\n",
    "\n",
    "# now we can assemble our program\n",
    "\n",
    "# first, choose the right update rule for each block in the spec\n",
    "ber_sampler = ExtendedSpinGibbsSampler()\n",
    "samplers = []\n",
    "for block in block_spec.free_blocks:\n",
    "    if isinstance(block.nodes[0], SpinNode):\n",
    "        samplers.append(ber_sampler)\n",
    "    else:\n",
    "        samplers.append(sampler)\n",
    "\n",
    "# collect all of our factors\n",
    "factors = [cont_quad, cont_linear, cont_coupling, spin_con_coupling, spin_linear, spin_coupling]\n",
    "\n",
    "program = FactorSamplingProgram(block_spec, samplers, factors, [])"
   ]
  },
  {
   "cell_type": "markdown",
   "id": "db464513aa82d8ce",
   "metadata": {
    "collapsed": false
   },
   "source": [
    "Our program is doing a lot of work to pad out the interaction structure and make our sampling program GPU-compatible:"
   ]
  },
  {
   "cell_type": "code",
   "execution_count": 25,
   "id": "21906c92ceb15017",
   "metadata": {
    "ExecuteTime": {
     "end_time": "2025-08-28T16:29:22.671053983Z",
     "start_time": "2025-08-28T16:29:22.632961366Z"
    }
   },
   "outputs": [
    {
     "data": {
      "text/plain": [
       "Array([ True,  True,  True,  True,  True, False, False, False, False,\n",
       "       False], dtype=bool)"
      ]
     },
     "execution_count": 25,
     "metadata": {},
     "output_type": "execute_result"
    }
   ],
   "source": [
    "# let's look at an example of the padding\n",
    "program.per_block_interaction_active[0][0][0]"
   ]
  },
  {
   "cell_type": "markdown",
   "id": "c36435a651622399",
   "metadata": {
    "collapsed": false
   },
   "source": [
    "Now we are ready to sample. In this case, we will simply observe the state of our nodes directly"
   ]
  },
  {
   "cell_type": "code",
   "execution_count": 26,
   "id": "aeb00d18260080cb",
   "metadata": {
    "ExecuteTime": {
     "end_time": "2025-08-28T16:29:26.417465165Z",
     "start_time": "2025-08-28T16:29:22.664903387Z"
    }
   },
   "outputs": [],
   "source": [
    "batch_size = 50\n",
    "\n",
    "schedule = SamplingSchedule(\n",
    "    # how many iterations to do before drawing the first sample\n",
    "    n_warmup=100,\n",
    "    # how many samples to draw in total\n",
    "    n_samples=300,\n",
    "    # how many steps to take between samples\n",
    "    steps_per_sample=15,\n",
    ")\n",
    "\n",
    "\n",
    "# construct the initial state of the iterative sampling algorithm\n",
    "init_state = []\n",
    "for block in block_spec.free_blocks:\n",
    "    init_shape = (\n",
    "        batch_size,\n",
    "        len(block.nodes),\n",
    "    )\n",
    "    key, subkey = jax.random.split(key, 2)\n",
    "    if isinstance(block.nodes[0], ContinuousNode):\n",
    "        init_state.append(0.1 * jax.random.normal(subkey, init_shape))\n",
    "    else:\n",
    "        init_state.append(jax.random.bernoulli(subkey, 0.5, init_shape))\n",
    "\n",
    "key, subkey = jax.random.split(key, 2)\n",
    "keys = jax.random.split(subkey, batch_size)\n",
    "\n",
    "samples = jax.vmap(lambda k, i: sample_states(k, program, schedule, i, [], [Block(spin_nodes), Block(cont_nodes)]))(\n",
    "    keys, init_state\n",
    ")"
   ]
  },
  {
   "cell_type": "markdown",
   "id": "e325d34504bc254b",
   "metadata": {
    "collapsed": false
   },
   "source": [
    "Let's visualize our samples. Our data is very high-dimensional, but we can use a PCA to try and get some idea of the structure of the distribution."
   ]
  },
  {
   "cell_type": "code",
   "execution_count": 27,
   "id": "af9c16dc493b03f",
   "metadata": {
    "ExecuteTime": {
     "end_time": "2025-08-28T16:29:26.742970708Z",
     "start_time": "2025-08-28T16:29:26.421361750Z"
    }
   },
   "outputs": [],
   "source": [
    "all_samples = jnp.concatenate(samples, axis=-1)\n",
    "pca = PCA(n_components=3)\n",
    "preproc_data = StandardScaler().fit_transform(jnp.reshape(all_samples, (-1, all_samples.shape[-1])))\n",
    "transformed_data = pca.fit_transform(preproc_data)"
   ]
  },
  {
   "cell_type": "code",
   "execution_count": 28,
   "id": "704fc2b7ab8f46f4",
   "metadata": {
    "ExecuteTime": {
     "end_time": "2025-08-28T16:29:27.018178933Z",
     "start_time": "2025-08-28T16:29:26.750400616Z"
    }
   },
   "outputs": [
    {
     "data": {
      "image/png": "[encoded data removed]",
      "text/plain": [
       "<Figure size 640x480 with 1 Axes>"
      ]
     },
     "metadata": {},
     "output_type": "display_data"
    }
   ],
   "source": [
    "fig = plt.figure()\n",
    "ax = fig.add_subplot(111, projection=\"3d\")\n",
    "sc = ax.scatter(\n",
    "    transformed_data[:, 0],  # PC1\n",
    "    transformed_data[:, 1],  # PC2\n",
    "    transformed_data[:, 2],  # PC3\n",
    "    s=50,\n",
    "    alpha=0.8,\n",
    ")\n",
    "ax.view_init(elev=-50, azim=280)\n",
    "plt.show()"
   ]
  },
  {
   "cell_type": "markdown",
   "id": "8d57127c5b76ae41",
   "metadata": {
    "collapsed": false
   },
   "source": [
    "This distribution is clearly non-Gaussian and complex, despite the random initialization."
   ]
  },
  {
   "cell_type": "markdown",
   "id": "639b83ab01e06491",
   "metadata": {
    "collapsed": false
   },
   "source": [
    "If you've made it to the end of this example and have been paying attention you are now ready to use THRML for your own research-grade problems! We are very excited to see what you make with it."
   ]
  }
 ],
 "metadata": {
  "kernelspec": {
   "display_name": "Python 3.10.16 ('dev_thrml')",
   "language": "python",
   "name": "python3"
  },
  "language_info": {
   "codemirror_mode": {
    "name": "ipython",
    "version": 3
   },
   "file_extension": ".py",
   "mimetype": "text/x-python",
   "name": "python",
   "nbconvert_exporter": "python",
   "pygments_lexer": "ipython3",
   "version": "3.10.16"
  },
  "vscode": {
   "interpreter": {
    "hash": "591c6f2f872d065a4e9643c78186d30103ad07846137f2348d83da528974561e"
   }
  }
 },
 "nbformat": 4,
 "nbformat_minor": 5
}